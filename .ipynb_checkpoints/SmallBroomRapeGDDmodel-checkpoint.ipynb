{
 "cells": [
  {
   "cell_type": "markdown",
   "metadata": {
    "id": "XYdP3GUNZZF-"
   },
   "source": [
    "### Small broomrape model for clover"
   ]
  },
  {
   "cell_type": "markdown",
   "metadata": {
    "id": "AAo41b1bZZGJ"
   },
   "source": [
    "Model adapted from an osu model for small broomrape development in colver. Note that the biofix point is currently arbitory, this needs sorting out before it can be useful"
   ]
  },
  {
   "cell_type": "markdown",
   "metadata": {
    "id": "ByuY6mI4ZZGK"
   },
   "source": [
    "Adapted from:\n",
    "SMALL BROOMRAPE BIOLOGY AND MANAGEMENT IN THE PACIFIC NORTHWEST\n",
    "R.D. Lins and J.B. Colquhoun\n",
    "2008 (osu)\n",
    "\n",
    "Other useful info:\n",
    "Small broomrape (Orobanche minor) germination and early development in response to plant species\n",
    "Weed Science, 52:260–266. 2004\n",
    "Kyle C. Ross, Jed B. Colquhoun, Carol A. Mallory-Smith\n",
    "\n",
    "A Predictive Degree-Days Model for Small Broomrape (Orobanche minor) Parasitism in\n",
    "Red Clover in Oregon\n",
    "Author(s): Hanan Eizenberg, Jed Colquhoun and Carol Mallory-Smith\n",
    "Source: Weed Science , Jan. - Feb., 2005, Vol. 53, No. 1 (Jan. - Feb., 2005), pp. 37-40\n"
   ]
  },
  {
   "cell_type": "code",
   "execution_count": 1,
   "metadata": {
    "id": "1uyPmkOFZZGM"
   },
   "outputs": [],
   "source": [
    "import numpy as np\n",
    "import pandas as pd\n",
    "import seaborn as sb\n",
    "import matplotlib.pyplot as plt\n",
    "import os as os\n",
    "import datetime\n",
    "plt.rcParams['figure.figsize'] = [12, 8]\n",
    "plt.rcParams['figure.dpi'] = 100 # 200 e.g. is really fine, but slower\n"
   ]
  },
  {
   "cell_type": "code",
   "execution_count": 35,
   "metadata": {
    "id": "sk0oPu0QZZGP"
   },
   "outputs": [],
   "source": [
    "\n",
    "def loadData():\n",
    "    wt = pd.read_csv('ChertseyDailyTemps.csv', skiprows=8, skipfooter=8, engine='python')\n",
    "    wt['DateInd'] = pd.to_datetime(wt['Date(NZST)'], format='%Y%m%d:%H%M')\n",
    "    wt = wt[['DateInd', 'Tmean(C)']]\n",
    "    wt = wt.replace('-', np.nan)\n",
    "    wt['Tmean(C)'] = wt['Tmean(C)'].astype(float)\n",
    "    \n",
    "    wtMeans = wt.set_index('DateInd').groupby(pd.Grouper(freq='1D')).mean()\n",
    "    wtMeans['Date'] = wtMeans.index\n",
    "    \n",
    "    #st = pd.read_csv('winchmoreSoilTemps.csv', skiprows=8)\n",
    "    #st['DateInd'] = pd.to_datetime(st['Date(NZST)'], format='%Y%m%d:%H%M')\n",
    "    #st = st[['DateInd', 'Tearth(C)']]\n",
    "    #st = st.replace('-', np.nan)\n",
    "    #st['Tearth(C)'] = st['Tearth(C)'].astype(float)\n",
    "\n",
    "    #stMeans = st.set_index('DateInd').groupby(pd.Grouper(freq='1D')).mean()\n",
    "    #stMeans['Date'] = stMeans.index\n",
    "    \n",
    "    df = wtMeans#stMeans#\n",
    "    df = df.loc[~(df['Date'].dt.month.eq(2) & df['Date'].dt.day.eq(29))]\n",
    "    df['Year'] = pd.DatetimeIndex(df['Date']).year\n",
    "    df['Month'] = pd.DatetimeIndex(df['Date']).month\n",
    "    df['Day'] = pd.DatetimeIndex(df['Date']).day\n",
    "\n",
    "    df['DOY'] = pd.DatetimeIndex(pd.to_datetime(df['Month'].astype(str)+df['Day'].astype(str), format='%m%d')).dayofyear\n",
    "    df = df[df.Year >=2000]\n",
    "\n",
    "    return(df)\n",
    "\n",
    "\n",
    "def createHerbWindow():\n",
    "    wd = loadData()\n",
    "\n",
    "    if manStart==True:\n",
    "        wd = wd[wd['Month']>=startMonth]\n",
    "        wd.drop(wd[(wd['Month']==startMonth) & (wd['Day']<startDay)].index, inplace=True)\n",
    "    else:\n",
    "        wd = wd[wd['Month']>=sowMonth]\n",
    "        wd.drop(wd[(wd['Month']==sowMonth) & (wd['Day']<sowDay)].index, inplace=True)\n",
    "        GDDtoStart = GDDtoEmergence + GDDperLeaf*NumLeafAtSBRstart\n",
    "        wd = wd[wd.groupby(pd.Grouper(key='Date', freq='Y'))['Tmean(C)'].cumsum()>=GDDtoStart]\n",
    "    \n",
    "    wd['GDD'] = wd.groupby(pd.Grouper(key='Date', freq='Y'))['Tmean(C)'].cumsum()\n",
    "    #wd['GDD'] = wd.groupby(pd.Grouper(key='Date', freq='Y'))['Tearth(C)'].cumsum()\n",
    "    print(wd)\n",
    "    wd = wd[wd['GDD']< CloverBiomassAffectedGDD + 300]\n",
    "    \n",
    "    wdThisYear = wd[wd['Year'] == datetime.datetime.now().year].reset_index()\n",
    "    wd = wd[wd['Year'] < datetime.datetime.now().year]\n",
    "    \n",
    "    \n",
    "    LTA = wdThisYear.groupby('DOY').mean()\n",
    "    startDOY = LTA.index[0] \n",
    "    endDOY = LTA.index[-1] \n",
    "    firstMonth = LTA.Month.iloc[0].astype(int)\n",
    "    lastMonth = LTA.Month.iloc[-1].astype(int)\n",
    "    \n",
    "    \n",
    "    wdThisYear['HerbWindow'] = np.where(((wdThisYear['GDD'] > HerbStartGDD) & (wdThisYear['GDD'] < HerbEndGDD)), True, False)\n",
    "    wd['HerbWindow'] = np.where(((wd['GDD'] > HerbStartGDD) & (wd['GDD'] < HerbEndGDD)), True, False)\n",
    "    MeanStart = abs(LTA['GDD'] - HerbStartGDD).idxmin()\n",
    "    MeanEnd = abs(LTA['GDD'] - HerbEndGDD).idxmin()\n",
    "    \n",
    "    Attachment = abs(LTA['GDD'] - AttachGDD).idxmin()    \n",
    "    Emergence = abs(LTA['GDD'] - EmergenceGDD).idxmin()\n",
    "    CloverBiomassAffected = abs(LTA['GDD'] - CloverBiomassAffectedGDD).idxmin()\n",
    "    \n",
    "    HerbStart = wd[(wd['HerbWindow'] == True) & (wd['GDD'] < (HerbStartGDD + GDDtol))].DOY.max()\n",
    "    HerbEnd = wd[(wd['HerbWindow'] == True) & (wd['GDD'] > (HerbEndGDD - GDDtol))].DOY.min()\n",
    "\n",
    "    if wdThisYear.GDD.iloc[-1] > AttachGDD:\n",
    "        AttachmentThisYear = wdThisYear.iloc[abs(wdThisYear.GDD - AttachGDD).idxmin()].DOY\n",
    "        plt.hlines(AttachGDD, AttachmentThisYear, startDOY, color='yellow', linestyle='--', label = 'Attachment this Year')\n",
    "        plt.vlines(AttachmentThisYear,AttachGDD, 0, color='yellow', linestyle='--', label = None)\n",
    "\n",
    "    if wdThisYear.GDD.iloc[-1] > HerbStartGDD:\n",
    "        HerbStartThisYear = wdThisYear[(wdThisYear['HerbWindow'] == True) & (wdThisYear['GDD'] < (HerbStartGDD + GDDtol))].DOY.max()\n",
    "        print('This year, herbicide window opened on the '+str(pd.to_datetime(HerbStartThisYear, format='%j').day) + '/' + str(pd.to_datetime(HerbStartThisYear, format='%j').month))\n",
    "        plt.hlines(HerbStartGDD, HerbStartThisYear, startDOY, color='blue', linestyle='--', label = 'Herbicide window opened this Year')\n",
    "        plt.vlines(HerbStartThisYear,HerbStartGDD, 0, color='blue', linestyle='--')\n",
    "\n",
    "    if wdThisYear.GDD.iloc[-1] > HerbEndGDD:\n",
    "        HerbEndThisYear = wdThisYear[(wdThisYear['HerbWindow'] == True) & (wdThisYear['GDD'] > (HerbEndGDD - GDDtol))].DOY.min()\n",
    "        print('This year, herbicide window ended on the '+str(pd.to_datetime(HerbEndThisYear, format='%j').day) + '/' + str(pd.to_datetime(HerbEndThisYear, format='%j').month))\n",
    "        plt.hlines(HerbEndGDD, HerbEndThisYear, startDOY, color='blue', linestyle='--', label = 'Herbicide window closeded this Year')\n",
    "        plt.vlines(HerbEndThisYear,HerbEndGDD, 0, color='blue', linestyle='--')\n",
    "\n",
    "    if wdThisYear.GDD.iloc[-1] > EmergenceGDD:\n",
    "        EmergenceThisYear = wdThisYear.iloc[abs(wdThisYear.GDD - EmergenceGDD).idxmin()].DOY\n",
    "        print('This year, emergence on the '+str(pd.to_datetime(EmergenceThisYear, format='%j').day) + '/' + str(pd.to_datetime(EmergenceThisYear, format='%j').month))\n",
    "        plt.hlines(EmergenceGDD, EmergenceThisYear, startDOY, color='Green', linestyle='--', label = 'Emergence this Year')\n",
    "        plt.vlines(EmergenceThisYear,EmergenceGDD, 0, color='Green', linestyle='--', label = None)\n",
    "\n",
    "    if wdThisYear.GDD.iloc[-1] > CloverBiomassAffectedGDD:\n",
    "        CloverBiomassAffectedThisYear = wdThisYear.iloc[abs(wdThisYear.GDD - CloverBiomassAffectedGDD).idxmin()].DOY\n",
    "        print('This year, emergence on the '+str(pd.to_datetime(CloverBiomassAffectedThisYear, format='%j').day) + '/' + str(pd.to_datetime(CloverBiomassAffectedThisYear, format='%j').month))\n",
    "        plt.hlines(CloverBiomassAffectedGDD, CloverBiomassAffectedThisYear, startDOY, color='black', linestyle='--', label = 'Clover Biomass Affected this Year')\n",
    "        plt.vlines(CloverBiomassAffectedThisYear,CloverBiomassAffectedGDD, 0, color='black', linestyle='--', label = None)\n",
    "\n",
    "\n",
    "    sb.lineplot(x='DOY', y='GDD', hue = 'Year', data = wd, legend=None, alpha=0.4)\n",
    "    sb.lineplot(x='DOY', y='GDD', data = wdThisYear, label='This Year', color='red', linestyle='--',  linewidth = 3)\n",
    "    \n",
    "    plt.hlines(AttachGDD, Attachment, startDOY, color='yellow')\n",
    "    plt.vlines(Attachment,AttachGDD, 0, color='yellow', label='Attachment (mean)')\n",
    "\n",
    "    #plt.hlines(HerbStartGDD, HerbStart, startDOY, color='blue')\n",
    "    #plt.vlines(HerbStart,HerbStartGDD, 0, color='blue')\n",
    "    #plt.hlines(HerbEndGDD, HerbEnd, startDOY, color='blue')\n",
    "    #plt.vlines(HerbEnd,HerbEndGDD, 0, color='blue', label='Herbicide window (extremes)')\n",
    "    plt.fill_between([HerbStart, HerbEnd], HerbEndGDD, 0, color='blue', alpha=0.2,interpolate=True, label='Herbicide window (extremes)')\n",
    "    plt.fill_between([startDOY, HerbEnd], HerbEndGDD, HerbStartGDD, color='blue', alpha=0.2,interpolate=True)\n",
    "    \n",
    "    plt.hlines(EmergenceGDD, Emergence, startDOY, color='green')\n",
    "    plt.vlines(Emergence,EmergenceGDD, 0, color='green', label='Emergence (mean)')\n",
    "    \n",
    "    plt.hlines(CloverBiomassAffectedGDD, CloverBiomassAffected, startDOY, color='black')\n",
    "    plt.vlines(CloverBiomassAffected,CloverBiomassAffectedGDD, 0, color='black', label='Biomass affected (mean)')\n",
    "    \n",
    "    \n",
    "\n",
    "    plt.xticks(np.linspace(183,365,7)[:-1], ('1st Jul', '1st Aug', '1st Sep', '1st Oct', '1st Nov', '1st Dec'))\n",
    "    #monthList = ('Jan','Feb','March','Apr','May','Jun','Jul', 'Aug', 'Sep', 'Oct', 'Nov', 'Dec')\n",
    "    #monthList = monthList[firstMonth-1:lastMonth]\n",
    "    #plt.xticks(np.linspace(startDOY,endDOY,len(monthList)+1)[:-1], monthList)\n",
    "    plt.xlabel('Date')\n",
    "    plt.legend()\n",
    "    \n",
    "    plt.savefig('ChertseySmallBroomrapeGDD.png')\n",
    "\n",
    "    print('Start of small broomrape accumulation '+str(pd.to_datetime(startDOY, format='%j').day) + '/' + str(pd.to_datetime(startDOY, format='%j').month))\n",
    "    \n",
    "    print('Mean herbicide window opening on the '+str(pd.to_datetime(HerbStart, format='%j').day) + '/' + str(pd.to_datetime(HerbStart, format='%j').month))\n",
    "    print('Mean herbicide window closing is on the '+str(pd.to_datetime(HerbEnd, format='%j').day) + '/' + str(pd.to_datetime(HerbEnd, format='%j').month))\n",
    "    print('Mean date of attachment is '+str(pd.to_datetime(Attachment, format='%j').day) + '/' + str(pd.to_datetime(Attachment, format='%j').month))\n",
    "    print('Mean date of emergence is '+str(pd.to_datetime(Emergence, format='%j').day) + '/' + str(pd.to_datetime(Emergence, format='%j').month))\n",
    "    print('Mean date which clover biomass is affected '+str(pd.to_datetime(CloverBiomassAffected, format='%j').day) + '/' + str(pd.to_datetime(CloverBiomassAffected, format='%j').month))\n"
   ]
  },
  {
   "cell_type": "code",
   "execution_count": 36,
   "metadata": {
    "id": "LXnyFytRZZGV"
   },
   "outputs": [],
   "source": [
    "# base temprature for thermal calculation\n",
    "Tbase = 0\n",
    "\n",
    "# start and end of the herbiside window for the small broom rape\n",
    "HerbStartGDD = 500\n",
    "HerbEndGDD = 1000\n",
    "\n",
    "AttachGDD = 400\n",
    "EmergenceGDD = 1100\n",
    "CloverBiomassAffectedGDD = 1200\n",
    "# tolerance to catch the first and last days of the window\n",
    "GDDtol = 20\n",
    "\n",
    "#Clover GDD values \n",
    "GDDtoEmergence = 102 # value from air, 102, soil is 152\n",
    "GDDperLeaf = 94"
   ]
  },
  {
   "cell_type": "code",
   "execution_count": 37,
   "metadata": {
    "colab": {
     "base_uri": "https://localhost:8080/",
     "height": 1000
    },
    "id": "dYyB0WCXZZGW",
    "outputId": "a71137a6-7068-4873-9eed-d0745d0d5e65"
   },
   "outputs": [
    {
     "name": "stdout",
     "output_type": "stream",
     "text": [
      "            Tmean(C)       Date  Year  Month  Day  DOY        GDD\n",
      "DateInd                                                          \n",
      "2023-07-01  4.870833 2023-07-01  2023      7    1  182   4.870833\n",
      "2023-07-02  3.620833 2023-07-02  2023      7    2  183   8.491667\n",
      "2023-07-03  4.917647 2023-07-03  2023      7    3  184  13.409314\n",
      "Start of small broomrape accumulation 1/7\n",
      "Mean herbicide window opening on the nan/nan\n",
      "Mean herbicide window closing is on the nan/nan\n",
      "Mean date of attachment is 3/7\n",
      "Mean date of emergence is 3/7\n",
      "Mean date which clover biomass is affected 3/7\n"
     ]
    },
    {
     "data": {
      "image/png": "[encoded data removed]",
      "text/plain": [
       "<Figure size 1200x800 with 1 Axes>"
      ]
     },
     "metadata": {},
     "output_type": "display_data"
    }
   ],
   "source": [
    "# based on red clover work from Hanan Eizenberg, Jed Colquhoun and Carol Mallory-Smith 2005\n",
    "# month and day to start thermal accumulation, estimated equivilent of the PNW 1st of Jan. \n",
    "# Would be good to look at converting this to a time/thermal time after sowing.\n",
    "# is there a critical mass of clover root which is required for the broom rape to germinate?\n",
    "\n",
    "manStart=True\n",
    "\n",
    "startMonth = 7\n",
    "startDay = 1\n",
    "\n",
    "# func call to do the work\n",
    "createHerbWindow()"
   ]
  },
  {
   "cell_type": "code",
   "execution_count": null,
   "metadata": {
    "id": "TwwpPAZFZZGZ"
   },
   "outputs": [],
   "source": [
    "# based on red clover work from Hanan Eizenberg, Jed Colquhoun and Carol Mallory-Smith 2005\n",
    "# month and day to start thermal accumulation, estimated equivilent of the PNW 1st of Jan. \n",
    "# Would be good to look at converting this to a time/thermal time after sowing.\n",
    "# is there a critical mass of clover root which is required for the broom rape to germinate?\n",
    "\n",
    "# white clover and red clover have different germination requirments, red, ~66 GDD Tbase 0.6\n",
    "# white, ~41 GDD Tbase 0.8. Days to 50% emergence dont very much, red 8 to 18, 54GDD between 8 mar and 8 may\n",
    "# white, 10 to 19, 102GDD\n",
    "\n",
    "# leaf emergence rate for white clover, phyllochron, 94GDD\n",
    "# sowing date, GDD to emergence, + 94 * num of leaves to start of small broom rape accumulation\n",
    "# going to use the same thermal time equation to create the start date, should consider useing its own one.\n",
    "\n",
    "# for germ need warmish temps with moisture\n",
    "\n",
    "#manStart=False\n",
    "\n",
    "#sowMonth = 4\n",
    "#sowDay = 1\n",
    "\n",
    "#NumLeafAtSBRstart = 2\n",
    "\n",
    "# func call to do the work\n",
    "#createHerbWindow()"
   ]
  },
  {
   "cell_type": "code",
   "execution_count": null,
   "metadata": {
    "id": "vaAe5heQZZGa"
   },
   "outputs": [],
   "source": []
  },
  {
   "cell_type": "code",
   "execution_count": null,
   "metadata": {
    "id": "pSa5lmRzZZGd"
   },
   "outputs": [],
   "source": []
  },
  {
   "cell_type": "code",
   "execution_count": null,
   "metadata": {
    "id": "pcPJ8LzDZZGh"
   },
   "outputs": [],
   "source": []
  },
  {
   "cell_type": "code",
   "execution_count": null,
   "metadata": {
    "id": "CGJY6L8vZZGj"
   },
   "outputs": [],
   "source": []
  },
  {
   "cell_type": "code",
   "execution_count": null,
   "metadata": {
    "id": "wd5-THjFZZGk"
   },
   "outputs": [],
   "source": []
  },
  {
   "cell_type": "code",
   "execution_count": null,
   "metadata": {
    "id": "HY81N40CZZGk"
   },
   "outputs": [],
   "source": []
  },
  {
   "cell_type": "code",
   "execution_count": null,
   "metadata": {
    "id": "G7mR_yuJZZGl"
   },
   "outputs": [],
   "source": []
  }
 ],
 "metadata": {
  "colab": {
   "provenance": []
  },
  "kernelspec": {
   "display_name": "Python 3 (ipykernel)",
   "language": "python",
   "name": "python3"
  },
  "language_info": {
   "codemirror_mode": {
    "name": "ipython",
    "version": 3
   },
   "file_extension": ".py",
   "mimetype": "text/x-python",
   "name": "python",
   "nbconvert_exporter": "python",
   "pygments_lexer": "ipython3",
   "version": "3.11.3"
  }
 },
 "nbformat": 4,
 "nbformat_minor": 4
}
